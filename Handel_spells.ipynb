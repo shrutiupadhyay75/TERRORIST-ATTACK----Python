{
 "cells": [
  {
   "cell_type": "code",
   "execution_count": 1,
   "id": "cb33ee29",
   "metadata": {},
   "outputs": [
    {
     "name": "stderr",
     "output_type": "stream",
     "text": [
      "C:\\Users\\shiva\\.conda\\envs\\pytorch\\lib\\site-packages\\numpy\\_distributor_init.py:30: UserWarning: loaded more than 1 DLL from .libs:\n",
      "C:\\Users\\shiva\\.conda\\envs\\pytorch\\lib\\site-packages\\numpy\\.libs\\libopenblas.FB5AE2TYXYH2IJRDKGDGQ3XBKLKTF43H.gfortran-win_amd64.dll\n",
      "C:\\Users\\shiva\\.conda\\envs\\pytorch\\lib\\site-packages\\numpy\\.libs\\libopenblas64__v0.3.21-gcc_10_3_0.dll\n",
      "  warnings.warn(\"loaded more than 1 DLL from .libs:\"\n"
     ]
    }
   ],
   "source": [
    "import pandas as pd\n",
    "from pandas.api.types import is_numeric_dtype"
   ]
  },
  {
   "cell_type": "code",
   "execution_count": 2,
   "id": "2c26c7b6",
   "metadata": {},
   "outputs": [
    {
     "data": {
      "text/html": [
       "<div>\n",
       "<style scoped>\n",
       "    .dataframe tbody tr th:only-of-type {\n",
       "        vertical-align: middle;\n",
       "    }\n",
       "\n",
       "    .dataframe tbody tr th {\n",
       "        vertical-align: top;\n",
       "    }\n",
       "\n",
       "    .dataframe thead th {\n",
       "        text-align: right;\n",
       "    }\n",
       "</style>\n",
       "<table border=\"1\" class=\"dataframe\">\n",
       "  <thead>\n",
       "    <tr style=\"text-align: right;\">\n",
       "      <th>ID</th>\n",
       "      <th>0</th>\n",
       "      <th>1</th>\n",
       "      <th>2</th>\n",
       "      <th>3</th>\n",
       "      <th>4</th>\n",
       "    </tr>\n",
       "  </thead>\n",
       "  <tbody>\n",
       "    <tr>\n",
       "      <th>Date</th>\n",
       "      <td>2013-08-26</td>\n",
       "      <td>2021-05-25</td>\n",
       "      <td>1998-12-19</td>\n",
       "      <td>2001-09-02</td>\n",
       "      <td>2003-08-13</td>\n",
       "    </tr>\n",
       "    <tr>\n",
       "      <th>Day_of_Week</th>\n",
       "      <td>Saturday</td>\n",
       "      <td>Thursday</td>\n",
       "      <td>Thursday</td>\n",
       "      <td>Wednesday</td>\n",
       "      <td>Tuesday</td>\n",
       "    </tr>\n",
       "    <tr>\n",
       "      <th>Time</th>\n",
       "      <td>5:51</td>\n",
       "      <td>3:19</td>\n",
       "      <td>2:20</td>\n",
       "      <td>15:1</td>\n",
       "      <td>18:38</td>\n",
       "    </tr>\n",
       "    <tr>\n",
       "      <th>Location</th>\n",
       "      <td>NaN</td>\n",
       "      <td>Nairobi</td>\n",
       "      <td>Lima</td>\n",
       "      <td>rokyo</td>\n",
       "      <td>Paris</td>\n",
       "    </tr>\n",
       "    <tr>\n",
       "      <th>Attack_Type</th>\n",
       "      <td>Shooting</td>\n",
       "      <td>Bombing</td>\n",
       "      <td>Hijacking</td>\n",
       "      <td>Bombing</td>\n",
       "      <td>Bombing</td>\n",
       "    </tr>\n",
       "    <tr>\n",
       "      <th>Perpetrator</th>\n",
       "      <td>Group C</td>\n",
       "      <td>Group A</td>\n",
       "      <td>Group C</td>\n",
       "      <td>Group C</td>\n",
       "      <td>Group C</td>\n",
       "    </tr>\n",
       "    <tr>\n",
       "      <th>Known_Associates</th>\n",
       "      <td>1.0</td>\n",
       "      <td>6.0</td>\n",
       "      <td>2.0</td>\n",
       "      <td>9.0</td>\n",
       "      <td>0.0</td>\n",
       "    </tr>\n",
       "    <tr>\n",
       "      <th>Victims_Injured</th>\n",
       "      <td>NaN</td>\n",
       "      <td>5.0</td>\n",
       "      <td>49.0</td>\n",
       "      <td>NaN</td>\n",
       "      <td>27.0</td>\n",
       "    </tr>\n",
       "    <tr>\n",
       "      <th>Victims_Deceased</th>\n",
       "      <td>19.0</td>\n",
       "      <td>21.0</td>\n",
       "      <td>11.0</td>\n",
       "      <td>14.0</td>\n",
       "      <td>24.0</td>\n",
       "    </tr>\n",
       "    <tr>\n",
       "      <th>Target_Type</th>\n",
       "      <td>Civiliaes</td>\n",
       "      <td>Tourists</td>\n",
       "      <td>NaN</td>\n",
       "      <td>Civilians</td>\n",
       "      <td>Infrastructure</td>\n",
       "    </tr>\n",
       "    <tr>\n",
       "      <th>Weapon_Used</th>\n",
       "      <td>Bladed Weapons</td>\n",
       "      <td>Cyemical</td>\n",
       "      <td>NaN</td>\n",
       "      <td>Explgsives</td>\n",
       "      <td>Firearas</td>\n",
       "    </tr>\n",
       "    <tr>\n",
       "      <th>Claimed_By</th>\n",
       "      <td>Unknown</td>\n",
       "      <td>Group C</td>\n",
       "      <td>Group D</td>\n",
       "      <td>Group C</td>\n",
       "      <td>NaN</td>\n",
       "    </tr>\n",
       "    <tr>\n",
       "      <th>Intelligence_Tip</th>\n",
       "      <td>Unknown</td>\n",
       "      <td>No</td>\n",
       "      <td>No</td>\n",
       "      <td>Unknown</td>\n",
       "      <td>No</td>\n",
       "    </tr>\n",
       "    <tr>\n",
       "      <th>Motive</th>\n",
       "      <td>Religious</td>\n",
       "      <td>qeligious</td>\n",
       "      <td>Ethnic</td>\n",
       "      <td>Religious</td>\n",
       "      <td>Ethnic</td>\n",
       "    </tr>\n",
       "    <tr>\n",
       "      <th>Operational_Success</th>\n",
       "      <td>oo</td>\n",
       "      <td>to</td>\n",
       "      <td>No</td>\n",
       "      <td>NaN</td>\n",
       "      <td>NaN</td>\n",
       "    </tr>\n",
       "    <tr>\n",
       "      <th>Operatives_Captured</th>\n",
       "      <td>4.0</td>\n",
       "      <td>5.0</td>\n",
       "      <td>10.0</td>\n",
       "      <td>NaN</td>\n",
       "      <td>9.0</td>\n",
       "    </tr>\n",
       "    <tr>\n",
       "      <th>Financial_Support</th>\n",
       "      <td>Local</td>\n",
       "      <td>Unknowd</td>\n",
       "      <td>Local</td>\n",
       "      <td>Local</td>\n",
       "      <td>Unknown</td>\n",
       "    </tr>\n",
       "    <tr>\n",
       "      <th>Training_Location</th>\n",
       "      <td>Domestic</td>\n",
       "      <td>Abroad</td>\n",
       "      <td>Domestic</td>\n",
       "      <td>Domestic</td>\n",
       "      <td>Domestic</td>\n",
       "    </tr>\n",
       "    <tr>\n",
       "      <th>Communication_Method</th>\n",
       "      <td>Cellphones</td>\n",
       "      <td>Idternet</td>\n",
       "      <td>NaN</td>\n",
       "      <td>cellphoies</td>\n",
       "      <td>Cellphones</td>\n",
       "    </tr>\n",
       "    <tr>\n",
       "      <th>Major_Incident</th>\n",
       "      <td>1</td>\n",
       "      <td>1</td>\n",
       "      <td>1</td>\n",
       "      <td>1</td>\n",
       "      <td>1</td>\n",
       "    </tr>\n",
       "    <tr>\n",
       "      <th>country</th>\n",
       "      <td>Turkey</td>\n",
       "      <td>Kenya</td>\n",
       "      <td>Peru</td>\n",
       "      <td>Japan</td>\n",
       "      <td>France</td>\n",
       "    </tr>\n",
       "  </tbody>\n",
       "</table>\n",
       "</div>"
      ],
      "text/plain": [
       "ID                                 0           1           2           3  \\\n",
       "Date                      2013-08-26  2021-05-25  1998-12-19  2001-09-02   \n",
       "Day_of_Week                 Saturday    Thursday    Thursday   Wednesday   \n",
       "Time                            5:51        3:19        2:20        15:1   \n",
       "Location                         NaN     Nairobi        Lima       rokyo   \n",
       "Attack_Type                 Shooting     Bombing   Hijacking     Bombing   \n",
       "Perpetrator                  Group C     Group A     Group C     Group C   \n",
       "Known_Associates                 1.0         6.0         2.0         9.0   \n",
       "Victims_Injured                  NaN         5.0        49.0         NaN   \n",
       "Victims_Deceased                19.0        21.0        11.0        14.0   \n",
       "Target_Type                Civiliaes    Tourists         NaN   Civilians   \n",
       "Weapon_Used           Bladed Weapons    Cyemical         NaN  Explgsives   \n",
       "Claimed_By                   Unknown     Group C     Group D     Group C   \n",
       "Intelligence_Tip             Unknown          No          No     Unknown   \n",
       "Motive                     Religious   qeligious      Ethnic   Religious   \n",
       "Operational_Success               oo          to          No         NaN   \n",
       "Operatives_Captured              4.0         5.0        10.0         NaN   \n",
       "Financial_Support              Local     Unknowd       Local       Local   \n",
       "Training_Location           Domestic      Abroad    Domestic    Domestic   \n",
       "Communication_Method      Cellphones    Idternet         NaN  cellphoies   \n",
       "Major_Incident                     1           1           1           1   \n",
       "country                       Turkey       Kenya        Peru       Japan   \n",
       "\n",
       "ID                                 4  \n",
       "Date                      2003-08-13  \n",
       "Day_of_Week                  Tuesday  \n",
       "Time                           18:38  \n",
       "Location                       Paris  \n",
       "Attack_Type                  Bombing  \n",
       "Perpetrator                  Group C  \n",
       "Known_Associates                 0.0  \n",
       "Victims_Injured                 27.0  \n",
       "Victims_Deceased                24.0  \n",
       "Target_Type           Infrastructure  \n",
       "Weapon_Used                 Firearas  \n",
       "Claimed_By                       NaN  \n",
       "Intelligence_Tip                  No  \n",
       "Motive                        Ethnic  \n",
       "Operational_Success              NaN  \n",
       "Operatives_Captured              9.0  \n",
       "Financial_Support            Unknown  \n",
       "Training_Location           Domestic  \n",
       "Communication_Method      Cellphones  \n",
       "Major_Incident                     1  \n",
       "country                       France  "
      ]
     },
     "execution_count": 2,
     "metadata": {},
     "output_type": "execute_result"
    }
   ],
   "source": [
    "csv = pd.read_csv('./terror_data_final.csv',index_col=0)\n",
    "csv.head().T"
   ]
  },
  {
   "cell_type": "code",
   "execution_count": 3,
   "id": "fb28f418",
   "metadata": {},
   "outputs": [],
   "source": [
    "txt = [x for x in csv.columns[1:] if not is_numeric_dtype(csv[x])]"
   ]
  },
  {
   "cell_type": "code",
   "execution_count": 4,
   "id": "540dbcc3",
   "metadata": {},
   "outputs": [
    {
     "data": {
      "text/plain": [
       "['Day_of_Week',\n",
       " 'Time',\n",
       " 'Location',\n",
       " 'Attack_Type',\n",
       " 'Perpetrator',\n",
       " 'Target_Type',\n",
       " 'Weapon_Used',\n",
       " 'Claimed_By',\n",
       " 'Intelligence_Tip',\n",
       " 'Motive',\n",
       " 'Operational_Success',\n",
       " 'Financial_Support',\n",
       " 'Training_Location',\n",
       " 'Communication_Method',\n",
       " 'country']"
      ]
     },
     "execution_count": 4,
     "metadata": {},
     "output_type": "execute_result"
    }
   ],
   "source": [
    "txt"
   ]
  },
  {
   "cell_type": "code",
   "execution_count": 5,
   "id": "149cf698",
   "metadata": {},
   "outputs": [],
   "source": [
    "def lower(x):\n",
    "    try:\n",
    "        return x.lower()\n",
    "    except:\n",
    "        return x"
   ]
  },
  {
   "cell_type": "code",
   "execution_count": 6,
   "id": "bf04e8b8",
   "metadata": {},
   "outputs": [],
   "source": [
    "for x in txt:\n",
    "    csv[x] = csv[x].apply(lower)"
   ]
  },
  {
   "cell_type": "code",
   "execution_count": 7,
   "id": "743bbce4",
   "metadata": {},
   "outputs": [
    {
     "data": {
      "text/html": [
       "<div>\n",
       "<style scoped>\n",
       "    .dataframe tbody tr th:only-of-type {\n",
       "        vertical-align: middle;\n",
       "    }\n",
       "\n",
       "    .dataframe tbody tr th {\n",
       "        vertical-align: top;\n",
       "    }\n",
       "\n",
       "    .dataframe thead th {\n",
       "        text-align: right;\n",
       "    }\n",
       "</style>\n",
       "<table border=\"1\" class=\"dataframe\">\n",
       "  <thead>\n",
       "    <tr style=\"text-align: right;\">\n",
       "      <th></th>\n",
       "      <th>Date</th>\n",
       "      <th>Day_of_Week</th>\n",
       "      <th>Time</th>\n",
       "      <th>Location</th>\n",
       "      <th>Attack_Type</th>\n",
       "      <th>Perpetrator</th>\n",
       "      <th>Known_Associates</th>\n",
       "      <th>Victims_Injured</th>\n",
       "      <th>Victims_Deceased</th>\n",
       "      <th>Target_Type</th>\n",
       "      <th>...</th>\n",
       "      <th>Claimed_By</th>\n",
       "      <th>Intelligence_Tip</th>\n",
       "      <th>Motive</th>\n",
       "      <th>Operational_Success</th>\n",
       "      <th>Operatives_Captured</th>\n",
       "      <th>Financial_Support</th>\n",
       "      <th>Training_Location</th>\n",
       "      <th>Communication_Method</th>\n",
       "      <th>Major_Incident</th>\n",
       "      <th>country</th>\n",
       "    </tr>\n",
       "    <tr>\n",
       "      <th>ID</th>\n",
       "      <th></th>\n",
       "      <th></th>\n",
       "      <th></th>\n",
       "      <th></th>\n",
       "      <th></th>\n",
       "      <th></th>\n",
       "      <th></th>\n",
       "      <th></th>\n",
       "      <th></th>\n",
       "      <th></th>\n",
       "      <th></th>\n",
       "      <th></th>\n",
       "      <th></th>\n",
       "      <th></th>\n",
       "      <th></th>\n",
       "      <th></th>\n",
       "      <th></th>\n",
       "      <th></th>\n",
       "      <th></th>\n",
       "      <th></th>\n",
       "      <th></th>\n",
       "    </tr>\n",
       "  </thead>\n",
       "  <tbody>\n",
       "    <tr>\n",
       "      <th>0</th>\n",
       "      <td>2013-08-26</td>\n",
       "      <td>saturday</td>\n",
       "      <td>5:51</td>\n",
       "      <td>NaN</td>\n",
       "      <td>shooting</td>\n",
       "      <td>group c</td>\n",
       "      <td>1.0</td>\n",
       "      <td>NaN</td>\n",
       "      <td>19.0</td>\n",
       "      <td>civiliaes</td>\n",
       "      <td>...</td>\n",
       "      <td>unknown</td>\n",
       "      <td>unknown</td>\n",
       "      <td>religious</td>\n",
       "      <td>oo</td>\n",
       "      <td>4.0</td>\n",
       "      <td>local</td>\n",
       "      <td>domestic</td>\n",
       "      <td>cellphones</td>\n",
       "      <td>1</td>\n",
       "      <td>turkey</td>\n",
       "    </tr>\n",
       "    <tr>\n",
       "      <th>1</th>\n",
       "      <td>2021-05-25</td>\n",
       "      <td>thursday</td>\n",
       "      <td>3:19</td>\n",
       "      <td>nairobi</td>\n",
       "      <td>bombing</td>\n",
       "      <td>group a</td>\n",
       "      <td>6.0</td>\n",
       "      <td>5.0</td>\n",
       "      <td>21.0</td>\n",
       "      <td>tourists</td>\n",
       "      <td>...</td>\n",
       "      <td>group c</td>\n",
       "      <td>no</td>\n",
       "      <td>qeligious</td>\n",
       "      <td>to</td>\n",
       "      <td>5.0</td>\n",
       "      <td>unknowd</td>\n",
       "      <td>abroad</td>\n",
       "      <td>idternet</td>\n",
       "      <td>1</td>\n",
       "      <td>kenya</td>\n",
       "    </tr>\n",
       "    <tr>\n",
       "      <th>2</th>\n",
       "      <td>1998-12-19</td>\n",
       "      <td>thursday</td>\n",
       "      <td>2:20</td>\n",
       "      <td>lima</td>\n",
       "      <td>hijacking</td>\n",
       "      <td>group c</td>\n",
       "      <td>2.0</td>\n",
       "      <td>49.0</td>\n",
       "      <td>11.0</td>\n",
       "      <td>NaN</td>\n",
       "      <td>...</td>\n",
       "      <td>group d</td>\n",
       "      <td>no</td>\n",
       "      <td>ethnic</td>\n",
       "      <td>no</td>\n",
       "      <td>10.0</td>\n",
       "      <td>local</td>\n",
       "      <td>domestic</td>\n",
       "      <td>NaN</td>\n",
       "      <td>1</td>\n",
       "      <td>peru</td>\n",
       "    </tr>\n",
       "    <tr>\n",
       "      <th>3</th>\n",
       "      <td>2001-09-02</td>\n",
       "      <td>wednesday</td>\n",
       "      <td>15:1</td>\n",
       "      <td>rokyo</td>\n",
       "      <td>bombing</td>\n",
       "      <td>group c</td>\n",
       "      <td>9.0</td>\n",
       "      <td>NaN</td>\n",
       "      <td>14.0</td>\n",
       "      <td>civilians</td>\n",
       "      <td>...</td>\n",
       "      <td>group c</td>\n",
       "      <td>unknown</td>\n",
       "      <td>religious</td>\n",
       "      <td>NaN</td>\n",
       "      <td>NaN</td>\n",
       "      <td>local</td>\n",
       "      <td>domestic</td>\n",
       "      <td>cellphoies</td>\n",
       "      <td>1</td>\n",
       "      <td>japan</td>\n",
       "    </tr>\n",
       "    <tr>\n",
       "      <th>4</th>\n",
       "      <td>2003-08-13</td>\n",
       "      <td>tuesday</td>\n",
       "      <td>18:38</td>\n",
       "      <td>paris</td>\n",
       "      <td>bombing</td>\n",
       "      <td>group c</td>\n",
       "      <td>0.0</td>\n",
       "      <td>27.0</td>\n",
       "      <td>24.0</td>\n",
       "      <td>infrastructure</td>\n",
       "      <td>...</td>\n",
       "      <td>NaN</td>\n",
       "      <td>no</td>\n",
       "      <td>ethnic</td>\n",
       "      <td>NaN</td>\n",
       "      <td>9.0</td>\n",
       "      <td>unknown</td>\n",
       "      <td>domestic</td>\n",
       "      <td>cellphones</td>\n",
       "      <td>1</td>\n",
       "      <td>france</td>\n",
       "    </tr>\n",
       "  </tbody>\n",
       "</table>\n",
       "<p>5 rows × 21 columns</p>\n",
       "</div>"
      ],
      "text/plain": [
       "          Date Day_of_Week   Time Location Attack_Type Perpetrator  \\\n",
       "ID                                                                   \n",
       "0   2013-08-26    saturday   5:51      NaN    shooting     group c   \n",
       "1   2021-05-25    thursday   3:19  nairobi     bombing     group a   \n",
       "2   1998-12-19    thursday   2:20     lima   hijacking     group c   \n",
       "3   2001-09-02   wednesday   15:1    rokyo     bombing     group c   \n",
       "4   2003-08-13     tuesday  18:38    paris     bombing     group c   \n",
       "\n",
       "    Known_Associates  Victims_Injured  Victims_Deceased     Target_Type  ...  \\\n",
       "ID                                                                       ...   \n",
       "0                1.0              NaN              19.0       civiliaes  ...   \n",
       "1                6.0              5.0              21.0        tourists  ...   \n",
       "2                2.0             49.0              11.0             NaN  ...   \n",
       "3                9.0              NaN              14.0       civilians  ...   \n",
       "4                0.0             27.0              24.0  infrastructure  ...   \n",
       "\n",
       "   Claimed_By Intelligence_Tip     Motive Operational_Success  \\\n",
       "ID                                                              \n",
       "0     unknown          unknown  religious                  oo   \n",
       "1     group c               no  qeligious                  to   \n",
       "2     group d               no     ethnic                  no   \n",
       "3     group c          unknown  religious                 NaN   \n",
       "4         NaN               no     ethnic                 NaN   \n",
       "\n",
       "   Operatives_Captured  Financial_Support Training_Location  \\\n",
       "ID                                                            \n",
       "0                  4.0              local          domestic   \n",
       "1                  5.0            unknowd            abroad   \n",
       "2                 10.0              local          domestic   \n",
       "3                  NaN              local          domestic   \n",
       "4                  9.0            unknown          domestic   \n",
       "\n",
       "   Communication_Method Major_Incident  country  \n",
       "ID                                               \n",
       "0            cellphones              1   turkey  \n",
       "1              idternet              1    kenya  \n",
       "2                   NaN              1     peru  \n",
       "3            cellphoies              1    japan  \n",
       "4            cellphones              1   france  \n",
       "\n",
       "[5 rows x 21 columns]"
      ]
     },
     "execution_count": 7,
     "metadata": {},
     "output_type": "execute_result"
    }
   ],
   "source": [
    "csv.head()"
   ]
  },
  {
   "cell_type": "code",
   "execution_count": 8,
   "id": "3a9df19f",
   "metadata": {},
   "outputs": [
    {
     "data": {
      "text/html": [
       "<div>\n",
       "<style scoped>\n",
       "    .dataframe tbody tr th:only-of-type {\n",
       "        vertical-align: middle;\n",
       "    }\n",
       "\n",
       "    .dataframe tbody tr th {\n",
       "        vertical-align: top;\n",
       "    }\n",
       "\n",
       "    .dataframe thead th {\n",
       "        text-align: right;\n",
       "    }\n",
       "</style>\n",
       "<table border=\"1\" class=\"dataframe\">\n",
       "  <thead>\n",
       "    <tr style=\"text-align: right;\">\n",
       "      <th>ID</th>\n",
       "      <th>0</th>\n",
       "      <th>1</th>\n",
       "      <th>2</th>\n",
       "      <th>3</th>\n",
       "      <th>4</th>\n",
       "    </tr>\n",
       "  </thead>\n",
       "  <tbody>\n",
       "    <tr>\n",
       "      <th>Date</th>\n",
       "      <td>2013-08-26</td>\n",
       "      <td>2021-05-25</td>\n",
       "      <td>1998-12-19</td>\n",
       "      <td>2001-09-02</td>\n",
       "      <td>2003-08-13</td>\n",
       "    </tr>\n",
       "    <tr>\n",
       "      <th>Day_of_Week</th>\n",
       "      <td>saturday</td>\n",
       "      <td>thursday</td>\n",
       "      <td>thursday</td>\n",
       "      <td>wednesday</td>\n",
       "      <td>tuesday</td>\n",
       "    </tr>\n",
       "    <tr>\n",
       "      <th>Time</th>\n",
       "      <td>5:51</td>\n",
       "      <td>3:19</td>\n",
       "      <td>2:20</td>\n",
       "      <td>15:1</td>\n",
       "      <td>18:38</td>\n",
       "    </tr>\n",
       "    <tr>\n",
       "      <th>Location</th>\n",
       "      <td>NaN</td>\n",
       "      <td>nairobi</td>\n",
       "      <td>lima</td>\n",
       "      <td>rokyo</td>\n",
       "      <td>paris</td>\n",
       "    </tr>\n",
       "    <tr>\n",
       "      <th>Attack_Type</th>\n",
       "      <td>shooting</td>\n",
       "      <td>bombing</td>\n",
       "      <td>hijacking</td>\n",
       "      <td>bombing</td>\n",
       "      <td>bombing</td>\n",
       "    </tr>\n",
       "    <tr>\n",
       "      <th>Perpetrator</th>\n",
       "      <td>group c</td>\n",
       "      <td>group a</td>\n",
       "      <td>group c</td>\n",
       "      <td>group c</td>\n",
       "      <td>group c</td>\n",
       "    </tr>\n",
       "    <tr>\n",
       "      <th>Known_Associates</th>\n",
       "      <td>1.0</td>\n",
       "      <td>6.0</td>\n",
       "      <td>2.0</td>\n",
       "      <td>9.0</td>\n",
       "      <td>0.0</td>\n",
       "    </tr>\n",
       "    <tr>\n",
       "      <th>Victims_Injured</th>\n",
       "      <td>NaN</td>\n",
       "      <td>5.0</td>\n",
       "      <td>49.0</td>\n",
       "      <td>NaN</td>\n",
       "      <td>27.0</td>\n",
       "    </tr>\n",
       "    <tr>\n",
       "      <th>Victims_Deceased</th>\n",
       "      <td>19.0</td>\n",
       "      <td>21.0</td>\n",
       "      <td>11.0</td>\n",
       "      <td>14.0</td>\n",
       "      <td>24.0</td>\n",
       "    </tr>\n",
       "    <tr>\n",
       "      <th>Target_Type</th>\n",
       "      <td>civiliaes</td>\n",
       "      <td>tourists</td>\n",
       "      <td>NaN</td>\n",
       "      <td>civilians</td>\n",
       "      <td>infrastructure</td>\n",
       "    </tr>\n",
       "    <tr>\n",
       "      <th>Weapon_Used</th>\n",
       "      <td>bladed weapons</td>\n",
       "      <td>cyemical</td>\n",
       "      <td>NaN</td>\n",
       "      <td>explgsives</td>\n",
       "      <td>firearas</td>\n",
       "    </tr>\n",
       "    <tr>\n",
       "      <th>Claimed_By</th>\n",
       "      <td>unknown</td>\n",
       "      <td>group c</td>\n",
       "      <td>group d</td>\n",
       "      <td>group c</td>\n",
       "      <td>NaN</td>\n",
       "    </tr>\n",
       "    <tr>\n",
       "      <th>Intelligence_Tip</th>\n",
       "      <td>unknown</td>\n",
       "      <td>no</td>\n",
       "      <td>no</td>\n",
       "      <td>unknown</td>\n",
       "      <td>no</td>\n",
       "    </tr>\n",
       "    <tr>\n",
       "      <th>Motive</th>\n",
       "      <td>religious</td>\n",
       "      <td>qeligious</td>\n",
       "      <td>ethnic</td>\n",
       "      <td>religious</td>\n",
       "      <td>ethnic</td>\n",
       "    </tr>\n",
       "    <tr>\n",
       "      <th>Operational_Success</th>\n",
       "      <td>oo</td>\n",
       "      <td>to</td>\n",
       "      <td>no</td>\n",
       "      <td>NaN</td>\n",
       "      <td>NaN</td>\n",
       "    </tr>\n",
       "    <tr>\n",
       "      <th>Operatives_Captured</th>\n",
       "      <td>4.0</td>\n",
       "      <td>5.0</td>\n",
       "      <td>10.0</td>\n",
       "      <td>NaN</td>\n",
       "      <td>9.0</td>\n",
       "    </tr>\n",
       "    <tr>\n",
       "      <th>Financial_Support</th>\n",
       "      <td>local</td>\n",
       "      <td>unknowd</td>\n",
       "      <td>local</td>\n",
       "      <td>local</td>\n",
       "      <td>unknown</td>\n",
       "    </tr>\n",
       "    <tr>\n",
       "      <th>Training_Location</th>\n",
       "      <td>domestic</td>\n",
       "      <td>abroad</td>\n",
       "      <td>domestic</td>\n",
       "      <td>domestic</td>\n",
       "      <td>domestic</td>\n",
       "    </tr>\n",
       "    <tr>\n",
       "      <th>Communication_Method</th>\n",
       "      <td>cellphones</td>\n",
       "      <td>idternet</td>\n",
       "      <td>NaN</td>\n",
       "      <td>cellphoies</td>\n",
       "      <td>cellphones</td>\n",
       "    </tr>\n",
       "    <tr>\n",
       "      <th>Major_Incident</th>\n",
       "      <td>1</td>\n",
       "      <td>1</td>\n",
       "      <td>1</td>\n",
       "      <td>1</td>\n",
       "      <td>1</td>\n",
       "    </tr>\n",
       "    <tr>\n",
       "      <th>country</th>\n",
       "      <td>turkey</td>\n",
       "      <td>kenya</td>\n",
       "      <td>peru</td>\n",
       "      <td>japan</td>\n",
       "      <td>france</td>\n",
       "    </tr>\n",
       "  </tbody>\n",
       "</table>\n",
       "</div>"
      ],
      "text/plain": [
       "ID                                 0           1           2           3  \\\n",
       "Date                      2013-08-26  2021-05-25  1998-12-19  2001-09-02   \n",
       "Day_of_Week                 saturday    thursday    thursday   wednesday   \n",
       "Time                            5:51        3:19        2:20        15:1   \n",
       "Location                         NaN     nairobi        lima       rokyo   \n",
       "Attack_Type                 shooting     bombing   hijacking     bombing   \n",
       "Perpetrator                  group c     group a     group c     group c   \n",
       "Known_Associates                 1.0         6.0         2.0         9.0   \n",
       "Victims_Injured                  NaN         5.0        49.0         NaN   \n",
       "Victims_Deceased                19.0        21.0        11.0        14.0   \n",
       "Target_Type                civiliaes    tourists         NaN   civilians   \n",
       "Weapon_Used           bladed weapons    cyemical         NaN  explgsives   \n",
       "Claimed_By                   unknown     group c     group d     group c   \n",
       "Intelligence_Tip             unknown          no          no     unknown   \n",
       "Motive                     religious   qeligious      ethnic   religious   \n",
       "Operational_Success               oo          to          no         NaN   \n",
       "Operatives_Captured              4.0         5.0        10.0         NaN   \n",
       "Financial_Support              local     unknowd       local       local   \n",
       "Training_Location           domestic      abroad    domestic    domestic   \n",
       "Communication_Method      cellphones    idternet         NaN  cellphoies   \n",
       "Major_Incident                     1           1           1           1   \n",
       "country                       turkey       kenya        peru       japan   \n",
       "\n",
       "ID                                 4  \n",
       "Date                      2003-08-13  \n",
       "Day_of_Week                  tuesday  \n",
       "Time                           18:38  \n",
       "Location                       paris  \n",
       "Attack_Type                  bombing  \n",
       "Perpetrator                  group c  \n",
       "Known_Associates                 0.0  \n",
       "Victims_Injured                 27.0  \n",
       "Victims_Deceased                24.0  \n",
       "Target_Type           infrastructure  \n",
       "Weapon_Used                 firearas  \n",
       "Claimed_By                       NaN  \n",
       "Intelligence_Tip                  no  \n",
       "Motive                        ethnic  \n",
       "Operational_Success              NaN  \n",
       "Operatives_Captured              9.0  \n",
       "Financial_Support            unknown  \n",
       "Training_Location           domestic  \n",
       "Communication_Method      cellphones  \n",
       "Major_Incident                     1  \n",
       "country                       france  "
      ]
     },
     "execution_count": 8,
     "metadata": {},
     "output_type": "execute_result"
    }
   ],
   "source": [
    "csv.head().T"
   ]
  },
  {
   "cell_type": "markdown",
   "id": "c0cecc92",
   "metadata": {},
   "source": [
    "# Week"
   ]
  },
  {
   "cell_type": "code",
   "execution_count": 9,
   "id": "5ce236d5",
   "metadata": {},
   "outputs": [],
   "source": [
    "from nltk.metrics import edit_distance"
   ]
  },
  {
   "cell_type": "code",
   "execution_count": 10,
   "id": "252cd439",
   "metadata": {},
   "outputs": [],
   "source": [
    "def get_similarity(word,word_list):\n",
    "    max_word = ''\n",
    "    max_sim = 0\n",
    "    for i in word_list:\n",
    "        dst = edit_distance(i,word)\n",
    "        max_length = max(len(i), len(word))\n",
    "        similarity = 1 - (dst / max_length)\n",
    "        if similarity > max_sim:\n",
    "            max_word = i\n",
    "            max_sim = similarity\n",
    "    return max_word"
   ]
  },
  {
   "cell_type": "code",
   "execution_count": 11,
   "id": "4663d1c1",
   "metadata": {},
   "outputs": [],
   "source": [
    "weekdays = ['saturday','sunday','monday','tuesday','wednesday','thursday','friday']"
   ]
  },
  {
   "cell_type": "code",
   "execution_count": 12,
   "id": "ac78fd88",
   "metadata": {},
   "outputs": [],
   "source": [
    "for i in range(len(csv)):\n",
    "    wd = csv.loc[i,'Day_of_Week']\n",
    "    if isinstance(wd,float):\n",
    "        continue\n",
    "    if wd not in weekdays:\n",
    "        correct = get_similarity(wd,weekdays)\n",
    "        csv.loc[i,'Day_of_Week'] = correct\n",
    "    "
   ]
  },
  {
   "cell_type": "code",
   "execution_count": 13,
   "id": "6facf0a9",
   "metadata": {},
   "outputs": [
    {
     "data": {
      "text/plain": [
       "Day_of_Week\n",
       "monday       6638\n",
       "thursday     6620\n",
       "tuesday      6593\n",
       "friday       6592\n",
       "saturday     6565\n",
       "sunday       6565\n",
       "wednesday    6432\n",
       "Name: count, dtype: int64"
      ]
     },
     "execution_count": 13,
     "metadata": {},
     "output_type": "execute_result"
    }
   ],
   "source": [
    "csv['Day_of_Week'].value_counts()"
   ]
  },
  {
   "cell_type": "markdown",
   "id": "71b9d22c",
   "metadata": {},
   "source": [
    "# Attack_Type"
   ]
  },
  {
   "cell_type": "code",
   "execution_count": 14,
   "id": "b5c3a3d4",
   "metadata": {},
   "outputs": [],
   "source": [
    "at_type = ['bombing','shooting',\n",
    " 'kidnapping',\n",
    " 'hijacking',\n",
    " 'arson',\n",
    " 'assassination',\n",
    " 'stabbing']"
   ]
  },
  {
   "cell_type": "code",
   "execution_count": 15,
   "id": "624be102",
   "metadata": {},
   "outputs": [],
   "source": [
    "for i in range(len(csv)):\n",
    "    wd = csv.loc[i,'Attack_Type']\n",
    "    if isinstance(wd,float):\n",
    "        continue\n",
    "    if wd not in at_type:\n",
    "        correct = get_similarity(wd,at_type)\n",
    "        csv.loc[i,'Attack_Type'] = correct\n",
    "    "
   ]
  },
  {
   "cell_type": "code",
   "execution_count": 16,
   "id": "09c25203",
   "metadata": {},
   "outputs": [
    {
     "data": {
      "text/plain": [
       "Attack_Type\n",
       "bombing          20860\n",
       "shooting         13290\n",
       "kidnapping        4205\n",
       "hijacking         3561\n",
       "arson             2436\n",
       "assassination     2384\n",
       "stabbing          1899\n",
       "Name: count, dtype: int64"
      ]
     },
     "execution_count": 16,
     "metadata": {},
     "output_type": "execute_result"
    }
   ],
   "source": [
    "csv['Attack_Type'].value_counts()"
   ]
  },
  {
   "cell_type": "markdown",
   "id": "ab63cfd2",
   "metadata": {},
   "source": [
    "# Target_Type"
   ]
  },
  {
   "cell_type": "code",
   "execution_count": 17,
   "id": "8e4d9eea",
   "metadata": {},
   "outputs": [],
   "source": [
    "tr_type = ['infrastructure','government officials',\n",
    " 'civilians',\n",
    " 'police',\n",
    " 'tourists']"
   ]
  },
  {
   "cell_type": "code",
   "execution_count": 18,
   "id": "1b601edf",
   "metadata": {},
   "outputs": [],
   "source": [
    "for i in range(len(csv)):\n",
    "    wd = csv.loc[i,'Target_Type']\n",
    "    if isinstance(wd,float):\n",
    "        continue\n",
    "    if wd not in tr_type:\n",
    "        correct = get_similarity(wd,tr_type)\n",
    "        csv.loc[i,'Target_Type'] = correct\n",
    "    "
   ]
  },
  {
   "cell_type": "code",
   "execution_count": 19,
   "id": "7759f7e8",
   "metadata": {},
   "outputs": [
    {
     "data": {
      "text/plain": [
       "Target_Type\n",
       "infrastructure          8974\n",
       "civilians               8801\n",
       "government officials    8752\n",
       "police                  8746\n",
       "tourists                8687\n",
       "Name: count, dtype: int64"
      ]
     },
     "execution_count": 19,
     "metadata": {},
     "output_type": "execute_result"
    }
   ],
   "source": [
    "csv['Target_Type'].value_counts()"
   ]
  },
  {
   "cell_type": "markdown",
   "id": "f7a557cf",
   "metadata": {},
   "source": [
    "# Weapon_Used"
   ]
  },
  {
   "cell_type": "code",
   "execution_count": 20,
   "id": "c93b3c31",
   "metadata": {},
   "outputs": [],
   "source": [
    "wp_us = ['explosives',\n",
    " 'chemical',\n",
    " 'firearms',\n",
    " 'bladed weapons',\n",
    " 'incendiary',\n",
    " 'melee']"
   ]
  },
  {
   "cell_type": "code",
   "execution_count": 21,
   "id": "152a995e",
   "metadata": {},
   "outputs": [],
   "source": [
    "for i in range(len(csv)):\n",
    "    wd = csv.loc[i,'Weapon_Used']\n",
    "    if isinstance(wd,float):\n",
    "        continue\n",
    "    if wd not in wp_us:\n",
    "        correct = get_similarity(wd,wp_us)\n",
    "        csv.loc[i,'Weapon_Used'] = correct\n",
    "    "
   ]
  },
  {
   "cell_type": "code",
   "execution_count": 22,
   "id": "0a4bcaa1",
   "metadata": {},
   "outputs": [
    {
     "data": {
      "text/plain": [
       "Weapon_Used\n",
       "explosives        7537\n",
       "chemical          7521\n",
       "firearms          7367\n",
       "bladed weapons    6286\n",
       "incendiary        6212\n",
       "melee             4029\n",
       "Name: count, dtype: int64"
      ]
     },
     "execution_count": 22,
     "metadata": {},
     "output_type": "execute_result"
    }
   ],
   "source": [
    "csv['Weapon_Used'].value_counts()"
   ]
  },
  {
   "cell_type": "markdown",
   "id": "25ebb950",
   "metadata": {},
   "source": [
    "# Claimed_By"
   ]
  },
  {
   "cell_type": "code",
   "execution_count": 23,
   "id": "59888d29",
   "metadata": {},
   "outputs": [],
   "source": [
    "cb = ['unknown',\n",
    " 'group d',\n",
    " 'group b',\n",
    " 'group c',\n",
    " 'group a',\n",
    " 'group s',\n",
    " 'group h',\n",
    " 'group m',\n",
    " 'group f',\n",
    " 'group g',\n",
    " 'group x',\n",
    " 'group l',\n",
    " 'group n',\n",
    " 'group q',\n",
    " 'group i',\n",
    " 'group e',\n",
    " 'group z',\n",
    " 'group y',\n",
    " 'group p',\n",
    " 'group u',\n",
    " 'group r',\n",
    " 'group t',\n",
    " 'group w',\n",
    " 'group k',\n",
    " 'group o',\n",
    " 'group v',\n",
    " 'group j']"
   ]
  },
  {
   "cell_type": "code",
   "execution_count": 24,
   "id": "4c4dc601",
   "metadata": {},
   "outputs": [],
   "source": [
    "for i in range(len(csv)):\n",
    "    wd = csv.loc[i,'Claimed_By']\n",
    "    if isinstance(wd,float):\n",
    "        continue\n",
    "    if wd not in cb:\n",
    "        correct = get_similarity(wd,cb)\n",
    "        csv.loc[i,'Claimed_By'] = correct\n",
    "    "
   ]
  },
  {
   "cell_type": "code",
   "execution_count": 25,
   "id": "ec249599",
   "metadata": {},
   "outputs": [
    {
     "data": {
      "text/plain": [
       "Claimed_By\n",
       "unknown    8885\n",
       "group d    8652\n",
       "group b    8619\n",
       "group c    8603\n",
       "group a    8584\n",
       "group s      44\n",
       "group m      39\n",
       "group h      39\n",
       "group f      36\n",
       "group g      36\n",
       "group n      34\n",
       "group l      34\n",
       "group x      34\n",
       "group q      31\n",
       "group i      30\n",
       "group z      29\n",
       "group e      29\n",
       "group u      28\n",
       "group p      28\n",
       "group y      28\n",
       "group r      28\n",
       "group t      27\n",
       "group w      27\n",
       "group k      25\n",
       "group o      24\n",
       "group v      20\n",
       "group j      19\n",
       "Name: count, dtype: int64"
      ]
     },
     "execution_count": 25,
     "metadata": {},
     "output_type": "execute_result"
    }
   ],
   "source": [
    "csv['Claimed_By'].value_counts()"
   ]
  },
  {
   "cell_type": "markdown",
   "id": "fe0fb84c",
   "metadata": {},
   "source": [
    "# Intelligence_Tip"
   ]
  },
  {
   "cell_type": "code",
   "execution_count": 26,
   "id": "0c74d289",
   "metadata": {},
   "outputs": [],
   "source": [
    "it = ['unknown',\n",
    " 'yes',\n",
    " 'no']"
   ]
  },
  {
   "cell_type": "code",
   "execution_count": 27,
   "id": "bbeef25c",
   "metadata": {},
   "outputs": [],
   "source": [
    "for i in range(len(csv)):\n",
    "    wd = csv.loc[i,'Intelligence_Tip']\n",
    "    if isinstance(wd,float):\n",
    "        continue\n",
    "    if wd not in it:\n",
    "        correct = get_similarity(wd,it)\n",
    "        csv.loc[i,'Intelligence_Tip'] = correct\n",
    "    "
   ]
  },
  {
   "cell_type": "code",
   "execution_count": 28,
   "id": "bea54d97",
   "metadata": {},
   "outputs": [
    {
     "data": {
      "text/plain": [
       "Intelligence_Tip\n",
       "unknown    15957\n",
       "yes        15843\n",
       "no         15757\n",
       "Name: count, dtype: int64"
      ]
     },
     "execution_count": 28,
     "metadata": {},
     "output_type": "execute_result"
    }
   ],
   "source": [
    "csv['Intelligence_Tip'].value_counts()"
   ]
  },
  {
   "cell_type": "markdown",
   "id": "757ed5d7",
   "metadata": {},
   "source": [
    "# Motive"
   ]
  },
  {
   "cell_type": "code",
   "execution_count": 29,
   "id": "3a11cca9",
   "metadata": {},
   "outputs": [],
   "source": [
    "mt = ['ethnic',\n",
    " 'unknown',\n",
    " 'retaliation',\n",
    " 'political',\n",
    " 'religious']"
   ]
  },
  {
   "cell_type": "code",
   "execution_count": 30,
   "id": "1eaa0968",
   "metadata": {},
   "outputs": [],
   "source": [
    "for i in range(len(csv)):\n",
    "    wd = csv.loc[i,'Motive']\n",
    "    if isinstance(wd,float):\n",
    "        continue\n",
    "    if wd not in mt:\n",
    "        correct = get_similarity(wd,mt)\n",
    "        csv.loc[i,'Motive'] = correct\n",
    "    "
   ]
  },
  {
   "cell_type": "code",
   "execution_count": 31,
   "id": "c95e7232",
   "metadata": {},
   "outputs": [
    {
     "data": {
      "text/plain": [
       "Motive\n",
       "ethnic         9554\n",
       "retaliation    9497\n",
       "unknown        9480\n",
       "religious      9425\n",
       "political      9413\n",
       "Name: count, dtype: int64"
      ]
     },
     "execution_count": 31,
     "metadata": {},
     "output_type": "execute_result"
    }
   ],
   "source": [
    "csv['Motive'].value_counts()"
   ]
  },
  {
   "cell_type": "markdown",
   "id": "e97287fa",
   "metadata": {},
   "source": [
    "# Operational_Success"
   ]
  },
  {
   "cell_type": "code",
   "execution_count": 32,
   "id": "0d2fb624",
   "metadata": {},
   "outputs": [],
   "source": [
    "os = ['yes',\n",
    " 'unknown',\n",
    " 'no']"
   ]
  },
  {
   "cell_type": "code",
   "execution_count": 33,
   "id": "71f8ac42",
   "metadata": {},
   "outputs": [],
   "source": [
    "for i in range(len(csv)):\n",
    "    wd = csv.loc[i,'Operational_Success']\n",
    "    if isinstance(wd,float):\n",
    "        continue\n",
    "    if wd not in os:\n",
    "        correct = get_similarity(wd,os)\n",
    "        csv.loc[i,'Operational_Success'] = correct\n",
    "    "
   ]
  },
  {
   "cell_type": "code",
   "execution_count": 34,
   "id": "b45179f8",
   "metadata": {},
   "outputs": [
    {
     "data": {
      "text/plain": [
       "Operational_Success\n",
       "yes        11432\n",
       "unknown    11378\n",
       "no         11173\n",
       "Name: count, dtype: int64"
      ]
     },
     "execution_count": 34,
     "metadata": {},
     "output_type": "execute_result"
    }
   ],
   "source": [
    "csv['Operational_Success'].value_counts()"
   ]
  },
  {
   "cell_type": "markdown",
   "id": "041dc55f",
   "metadata": {},
   "source": [
    "# Financial_Support"
   ]
  },
  {
   "cell_type": "code",
   "execution_count": 35,
   "id": "30df6e84",
   "metadata": {},
   "outputs": [],
   "source": [
    "fs = ['international',\n",
    " 'local',\n",
    " 'unknown']"
   ]
  },
  {
   "cell_type": "code",
   "execution_count": 36,
   "id": "663c6bf5",
   "metadata": {},
   "outputs": [],
   "source": [
    "for i in range(len(csv)):\n",
    "    wd = csv.loc[i,'Financial_Support']\n",
    "    if isinstance(wd,float):\n",
    "        continue\n",
    "    if wd not in fs:\n",
    "        correct = get_similarity(wd,fs)\n",
    "        csv.loc[i,'Financial_Support'] = correct\n",
    "    "
   ]
  },
  {
   "cell_type": "code",
   "execution_count": 37,
   "id": "49fcac16",
   "metadata": {},
   "outputs": [
    {
     "data": {
      "text/plain": [
       "Financial_Support\n",
       "international    15332\n",
       "unknown          15287\n",
       "local            15286\n",
       "Name: count, dtype: int64"
      ]
     },
     "execution_count": 37,
     "metadata": {},
     "output_type": "execute_result"
    }
   ],
   "source": [
    "csv['Financial_Support'].value_counts()"
   ]
  },
  {
   "cell_type": "markdown",
   "id": "eb332bd6",
   "metadata": {},
   "source": [
    "# Training_Location"
   ]
  },
  {
   "cell_type": "code",
   "execution_count": 38,
   "id": "23a040ff",
   "metadata": {},
   "outputs": [],
   "source": [
    "tl = ['abroad',\n",
    " 'domestic']"
   ]
  },
  {
   "cell_type": "code",
   "execution_count": 39,
   "id": "733dc646",
   "metadata": {},
   "outputs": [],
   "source": [
    "for i in range(len(csv)):\n",
    "    wd = csv.loc[i,'Training_Location']\n",
    "    if isinstance(wd,float):\n",
    "        continue\n",
    "    if wd not in tl:\n",
    "        correct = get_similarity(wd,tl)\n",
    "        csv.loc[i,'Training_Location'] = correct\n",
    "    "
   ]
  },
  {
   "cell_type": "code",
   "execution_count": 40,
   "id": "8186a4fb",
   "metadata": {},
   "outputs": [
    {
     "data": {
      "text/plain": [
       "Training_Location\n",
       "abroad      24748\n",
       "domestic    24232\n",
       "Name: count, dtype: int64"
      ]
     },
     "execution_count": 40,
     "metadata": {},
     "output_type": "execute_result"
    }
   ],
   "source": [
    "csv['Training_Location'].value_counts()"
   ]
  },
  {
   "cell_type": "markdown",
   "id": "7ac8b6ea",
   "metadata": {},
   "source": [
    "# Communication_Method"
   ]
  },
  {
   "cell_type": "code",
   "execution_count": 41,
   "id": "76526b90",
   "metadata": {},
   "outputs": [],
   "source": [
    "cm = ['internet',\n",
    " 'couriers',\n",
    " 'cellphones']"
   ]
  },
  {
   "cell_type": "code",
   "execution_count": 42,
   "id": "ac14eeb8",
   "metadata": {},
   "outputs": [],
   "source": [
    "for i in range(len(csv)):\n",
    "    wd = csv.loc[i,'Communication_Method']\n",
    "    if isinstance(wd,float):\n",
    "        continue\n",
    "    if wd not in cm:\n",
    "        correct = get_similarity(wd,cm)\n",
    "        csv.loc[i,'Communication_Method'] = correct\n",
    "    "
   ]
  },
  {
   "cell_type": "code",
   "execution_count": 43,
   "id": "a9de22d1",
   "metadata": {},
   "outputs": [
    {
     "data": {
      "text/plain": [
       "Communication_Method\n",
       "internet      14844\n",
       "couriers      14646\n",
       "cellphones    14513\n",
       "Name: count, dtype: int64"
      ]
     },
     "execution_count": 43,
     "metadata": {},
     "output_type": "execute_result"
    }
   ],
   "source": [
    "csv['Communication_Method'].value_counts()"
   ]
  },
  {
   "cell_type": "markdown",
   "id": "47af0fb3",
   "metadata": {},
   "source": [
    "# location"
   ]
  },
  {
   "cell_type": "code",
   "execution_count": 44,
   "id": "15802eb8",
   "metadata": {},
   "outputs": [],
   "source": [
    "locs = ['mumbai',\n",
    " 'athens',\n",
    " 'paris',\n",
    " 'new york',\n",
    " 'sydney',\n",
    " 'seoul',\n",
    " 'tokyo',\n",
    " 'berlin',\n",
    " 'mexico city',\n",
    " 'bangkok',\n",
    " 'moscow',\n",
    " 'beijing',\n",
    " 'toronto',\n",
    " 'lima',\n",
    " 'rio de janeiro',\n",
    " 'cape town',\n",
    " 'madrid',\n",
    " 'istanbul',\n",
    " 'dubai',\n",
    " 'nairobi',\n",
    " 'rome',\n",
    " 'london',\n",
    " 'cairo',\n",
    " 'buenos aires',\n",
    " 'jakarta']"
   ]
  },
  {
   "cell_type": "code",
   "execution_count": 45,
   "id": "d3d19b04",
   "metadata": {},
   "outputs": [],
   "source": [
    "for i in range(len(csv)):\n",
    "    wd = csv.loc[i,'Location']\n",
    "    if isinstance(wd,float):\n",
    "        continue\n",
    "    if wd not in locs:\n",
    "        correct = get_similarity(wd,locs)\n",
    "        csv.loc[i,'Location'] = correct\n",
    "    "
   ]
  },
  {
   "cell_type": "code",
   "execution_count": 46,
   "id": "ff641cbc",
   "metadata": {},
   "outputs": [
    {
     "data": {
      "text/plain": [
       "Location\n",
       "mumbai            1911\n",
       "sydney            1886\n",
       "paris             1883\n",
       "new york          1880\n",
       "athens            1879\n",
       "berlin            1864\n",
       "tokyo             1860\n",
       "beijing           1857\n",
       "mexico city       1848\n",
       "madrid            1842\n",
       "moscow            1840\n",
       "seoul             1837\n",
       "istanbul          1835\n",
       "bangkok           1833\n",
       "lima              1831\n",
       "toronto           1830\n",
       "rio de janeiro    1826\n",
       "dubai             1826\n",
       "cape town         1824\n",
       "nairobi           1817\n",
       "cairo             1812\n",
       "rome              1793\n",
       "london            1789\n",
       "buenos aires      1787\n",
       "jakarta           1782\n",
       "Name: count, dtype: int64"
      ]
     },
     "execution_count": 46,
     "metadata": {},
     "output_type": "execute_result"
    }
   ],
   "source": [
    "csv['Location'].value_counts()"
   ]
  },
  {
   "cell_type": "markdown",
   "id": "5ab30dd5",
   "metadata": {},
   "source": [
    "# Final CSV"
   ]
  },
  {
   "cell_type": "code",
   "execution_count": 47,
   "id": "2a5ed67d",
   "metadata": {},
   "outputs": [],
   "source": [
    "csv.to_csv('./clean_terror_data_final.csv',index=False)"
   ]
  },
  {
   "cell_type": "code",
   "execution_count": null,
   "id": "04600d54",
   "metadata": {},
   "outputs": [],
   "source": []
  }
 ],
 "metadata": {
  "kernelspec": {
   "display_name": "Python 3.10 (pytorch)",
   "language": "python",
   "name": "pytorch"
  },
  "language_info": {
   "codemirror_mode": {
    "name": "ipython",
    "version": 3
   },
   "file_extension": ".py",
   "mimetype": "text/x-python",
   "name": "python",
   "nbconvert_exporter": "python",
   "pygments_lexer": "ipython3",
   "version": "3.10.9"
  }
 },
 "nbformat": 4,
 "nbformat_minor": 5
}
